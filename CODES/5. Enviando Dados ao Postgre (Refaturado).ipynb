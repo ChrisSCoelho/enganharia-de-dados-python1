{
 "cells": [
  {
   "cell_type": "code",
   "execution_count": 5,
   "metadata": {},
   "outputs": [],
   "source": [
    "import pandas as pd\n",
    "import psycopg2\n",
    "from dotenv import load_dotenv\n",
    "import os"
   ]
  },
  {
   "cell_type": "code",
   "execution_count": 6,
   "metadata": {},
   "outputs": [],
   "source": [
    "caminho_do_arquivo = r\"C:\\Users\\crist\\Documents\\Engenharia de dados com PYTHON\\Arquivos\\01. Postgree\\Origem de dados\\V_OCORRENCIA_AMPLA.json\"\n",
    "df=pd.read_json(caminho_do_arquivo, encoding='utf-8-sig')"
   ]
  },
  {
   "cell_type": "code",
   "execution_count": 7,
   "metadata": {},
   "outputs": [],
   "source": [
    "colunas = ['Numero_da_Ocorrencia', 'Classificacao_da_Ocorrência', 'Data_da_Ocorrencia','Municipio', 'UF', 'Regiao', 'Nome_do_Fabricante']\n",
    "df = df[colunas]\n",
    "df.rename(columns={'Classificacao_da_Ocorrência':'Classificacao_da_Ocorrencia'}, inplace = True)"
   ]
  },
  {
   "cell_type": "code",
   "execution_count": 8,
   "metadata": {},
   "outputs": [],
   "source": [
    "load_dotenv()\n",
    "\n",
    "conn= psycopg2.connect(   \n",
    "    dbname = os.getenv('dbname'),\n",
    "    user = os.getenv('user'),\n",
    "    password = os.getenv('password'),\n",
    "    host = os.getenv('host'),\n",
    "    port = os.getenv('port')\n",
    "    )\n",
    "\n",
    "#Habilitando cursor \n",
    "cur = conn.cursor()\n",
    "\n",
    "#Deletando dados existentes\n",
    "cur.execute(\n",
    "    'delete from Anac'\n",
    ")\n",
    "\n",
    "#Subindo novos dados\n",
    "for index,column in df.iterrows():\n",
    "    cur.execute (\"\"\"INSERT INTO Anac \n",
    "    (     \n",
    "                Numero_da_Ocorrencia, \n",
    "                Classificacao_da_Ocorrencia, \n",
    "                Data_da_Ocorrencia, \n",
    "                Municipio, \n",
    "                UF, \n",
    "                Regiao, \n",
    "                Nome_do_Fabricante\n",
    "            ) VALUES (\n",
    "                %s,%s,%s,%s,%s,%s,%s)\"\"\",\n",
    "                (\n",
    "                    column['Numero_da_Ocorrencia'],\n",
    "                    column['Classificacao_da_Ocorrencia'],\n",
    "                    column['Data_da_Ocorrencia'],\n",
    "                    column['Municipio'],\n",
    "                    column['UF'],\n",
    "                    column['Regiao'],\n",
    "                    column['Nome_do_Fabricante']\n",
    "                )\n",
    "\n",
    "                 )\n",
    "\n",
    "conn.commit()\n",
    "cur.close()\n",
    "conn.close()\n"
   ]
  }
 ],
 "metadata": {
  "kernelspec": {
   "display_name": "sgbds",
   "language": "python",
   "name": "python3"
  },
  "language_info": {
   "codemirror_mode": {
    "name": "ipython",
    "version": 3
   },
   "file_extension": ".py",
   "mimetype": "text/x-python",
   "name": "python",
   "nbconvert_exporter": "python",
   "pygments_lexer": "ipython3",
   "version": "3.12.2"
  }
 },
 "nbformat": 4,
 "nbformat_minor": 2
}
